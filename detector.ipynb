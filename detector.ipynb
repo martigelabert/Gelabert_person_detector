{
 "cells": [
  {
   "cell_type": "code",
   "execution_count": 10,
   "metadata": {},
   "outputs": [],
   "source": [
    "import cv2\n",
    "import numpy as np\n",
    "from pathlib import Path\n",
    "import matplotlib.pyplot as plt\n",
    "\n",
    "def loadImages( folder_dir : str, extension : str, color = 1) -> np.ndarray:\n",
    "    images = []\n",
    "    _fileNames = Path(folder_dir).glob(extension)\n",
    "    print(_fileNames)\n",
    "    for i in _fileNames:\n",
    "        img = cv2.imread(str(i), color)\n",
    "        images.append(img)\n",
    "    images = np.array(images)\n",
    "    return images,_fileNames\n",
    "\n",
    "\n",
    "def averageImg(images : np.ndarray) -> np.ndarray:\n",
    "    \"\"\"\"Method for calculating the average between all the images avaliable\"\"\"\n",
    "    print(images.shape)\n",
    "    print(images[0].shape)\n",
    "    average = np.zeros_like(images[0],np.float64)           \n",
    "    \n",
    "\n",
    "    for img in images:\n",
    "        average = average + img \n",
    "    average = np.array(np.round(average), dtype=np.uint8)\n",
    "\n",
    "    return average\n",
    "\n",
    "def wait():\n",
    "    while (True):\n",
    "        # Displays the window infinitely\n",
    "        key = cv2.waitKey(0)\n",
    "        # Shuts down the display window and terminates\n",
    "        # the Python process when a specific key is\n",
    "        # pressed on the window.\n",
    "        # 27 is the esc key\n",
    "        # 113 is the letter 'q'\n",
    "        if key == 27 or key == 113:\n",
    "            break\n",
    "    cv2.destroyAllWindows()\n",
    "\n",
    "def gabor_filter_bank(image, show=False):\n",
    "    \"\"\"Generation of diferent Gaborn filters and apply them to a given image\"\"\"\n",
    "    kernels = [\n",
    "        cv2.getGaborKernel(ksize=(15, 15), sigma=sigma, theta=theta, lambd=lambd, gamma=gamma, psi=0)\n",
    "        for sigma in [3, 5, 7]\n",
    "        for theta in [np.pi, np.pi / 2, 0]\n",
    "        for lambd in [1.5, 2]\n",
    "        for gamma in [1, 1.5]\n",
    "    ]\n",
    "\n",
    "\n",
    "    if show:\n",
    "        fig = plt.figure(figsize=(10, 12))\n",
    "        \n",
    "        rows = 5\n",
    "        columns = len(kernels)//rows - 1\n",
    "        for i in range(1, columns*rows +1):\n",
    "            img = kernels[i]\n",
    "            fig.add_subplot(rows, columns, i)\n",
    "            plt.imshow(img)\n",
    "        plt.show()\n",
    "    \n",
    "    # Extraction of features\n",
    "    filtered_images = [cv2.filter2D(image, cv2.CV_64F, kernel) for kernel in kernels]\n",
    "    return filtered_images\n",
    "\n",
    "def substract_all(average:np.ndarray,images:np.ndarray) -> np.ndarray:\n",
    "    \"\"\"Substracting the average image from all the images\"\"\"\n",
    "    out = []\n",
    "    for img in images:\n",
    "        out.append(np.subtract(img,average))\n",
    "    \n",
    "    return np.array(out)    \n",
    "\n",
    "def histogram_equalization(images:np.ndarray)-> np.ndarray:\n",
    "    \"\"\"Calculation of histogram equalization using openCV optimized functions\"\"\"\n",
    "    output = []\n",
    "    for img in images:\n",
    "        output.append( cv2.equalizeHist(img))\n",
    "    return np.array(output)\n",
    "\n",
    "def check_side_by_side(img1,img2):\n",
    "    res = np.hstack((img1,img2)) #stacking images side-by-side\n",
    "    cv2.imshow('res.png',res)\n"
   ]
  },
  {
   "cell_type": "code",
   "execution_count": 37,
   "metadata": {},
   "outputs": [
    {
     "name": "stdout",
     "output_type": "stream",
     "text": [
      "<generator object Path.glob at 0x7f3445d70d60>\n",
      "(10, 1080, 1920)\n",
      "(1080, 1920)\n"
     ]
    }
   ],
   "source": [
    "empty = 'Gelabert/1660284000.jpg'\n",
    "folder_dir = 'Gelabert'\n",
    "extension = '*.jpg'\n",
    "images, _fileNames = loadImages(folder_dir, extension,0)\n",
    "_empty = cv2.imread(empty,0)\n",
    "\n",
    "\n",
    "avg = averageImg(images=images)\n",
    "sub = substract_all(images=images,average=avg)\n",
    "#equ = histogram_equalization(images=sub)\n",
    "  "
   ]
  },
  {
   "cell_type": "code",
   "execution_count": 41,
   "metadata": {},
   "outputs": [],
   "source": [
    "f = gabor_filter_bank(sub[0])\n",
    "f = np.array(f)\n",
    "\n",
    "cv2.imshow(\"a\",f[30])\n"
   ]
  }
 ],
 "metadata": {
  "interpreter": {
   "hash": "3dd99001ae126ea0149c1da636e9d57109bd017e31cdf178198004932ca392b9"
  },
  "kernelspec": {
   "display_name": "Python 3.10.6 ('vision')",
   "language": "python",
   "name": "python3"
  },
  "language_info": {
   "codemirror_mode": {
    "name": "ipython",
    "version": 3
   },
   "file_extension": ".py",
   "mimetype": "text/x-python",
   "name": "python",
   "nbconvert_exporter": "python",
   "pygments_lexer": "ipython3",
   "version": "3.10.6"
  },
  "orig_nbformat": 4
 },
 "nbformat": 4,
 "nbformat_minor": 2
}
